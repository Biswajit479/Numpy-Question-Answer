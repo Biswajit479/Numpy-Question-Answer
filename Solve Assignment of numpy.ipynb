{
 "cells": [
  {
   "cell_type": "markdown",
   "id": "3a21e1c5-ba46-412b-91aa-ce19359601fe",
   "metadata": {},
   "source": [
    "# Theoritical Question:"
   ]
  },
  {
   "cell_type": "markdown",
   "id": "2e1a1b61-1c72-472c-89c4-2a66fc9b0086",
   "metadata": {},
   "source": [
    "### 1. Explain the purpose and advantages of NumPy in scientific computing and data analysis. How does it enhance Python's capabilities for numerical operations?"
   ]
  },
  {
   "cell_type": "markdown",
   "id": "01706ef8-a311-4e24-957a-4bf160ad962c",
   "metadata": {},
   "source": [
    "### Purpose:\n",
    "    Numpy is a fundamental library for numerical computation in python. It’s provides supports for large, multi-dimensional arrays and matrices, along with a collection of mathematical functions.\n",
    "\n",
    "### Advantages:\n",
    "    • Efficient storage and manipulation of data using ndarray.\n",
    "\n",
    "    • Faster optimization due to C-based backend.\n",
    "\n",
    "    • Function for linear algebra, Statistics and Fourier transforms.\n",
    "\n",
    "    • Supports vactorization, eliminating explicits loops.\n",
    "\n",
    "    • Enables broadcasting for operation on arrays of different shapes.\n",
    "\n",
    "### Enhancement of Python:\n",
    "    It enhances Python’s ability to perform fast numerical operations, which is not nativvely optimized in standard lists.\n"
   ]
  },
  {
   "cell_type": "markdown",
   "id": "db66f375-c0af-4f45-af71-21eef18ba874",
   "metadata": {},
   "source": [
    "### 2. Compare and contrast np.mean() and np.average() functions in NumPy. When would you use one over the other?"
   ]
  },
  {
   "cell_type": "markdown",
   "id": "31205eee-5cb3-41a4-8ccf-09e6d3e36c91",
   "metadata": {},
   "source": [
    "    • np.mean(): Calculate the arithmetic mean of arrays elements.\n",
    "    \n",
    "    • Np.average(): Calculates the weighted average. You can supply weights.\n",
    "    \n",
    "### Use Case:\n",
    "    • Use np.mean() When all values contribute equally.\n",
    "\n",
    "    • Use np.average() when weights are assigned to values"
   ]
  },
  {
   "cell_type": "code",
   "execution_count": 20,
   "id": "5bdf256c-d91e-49c4-9400-3a0410b95091",
   "metadata": {},
   "outputs": [
    {
     "name": "stdout",
     "output_type": "stream",
     "text": [
      "2.0\n",
      "2.0\n",
      "2.25\n"
     ]
    }
   ],
   "source": [
    "import numpy as np\n",
    "\n",
    "arr = np.array([1,2,3]) # Creates a NumPy array with elements 1, 2, 3\n",
    "\n",
    "print(np.mean(arr))  # Calculates the mean: (1 + 2 + 3)/3 = 2.0\n",
    "\n",
    "print(np.average(arr)) # Same result as mean when no weights are given: 2.0\n",
    "\n",
    "print(np.average(arr,weights = [1,1,2])) # # Weighted average: (1×1 + 2×1 + 3×2) / (1 + 1 + 2) = (1 + 2 + 6)/4 = 2.25"
   ]
  },
  {
   "cell_type": "markdown",
   "id": "a750710c-3416-4c0e-aa92-14c9582c855a",
   "metadata": {},
   "source": [
    "### 3. Describe the methods for reversing a NumPy array along different axes. Provide examples for 1D and 2D arrays."
   ]
  },
  {
   "cell_type": "code",
   "execution_count": 3,
   "id": "eab9d295-e2cf-4c9f-81ca-9fbd0fa58d7c",
   "metadata": {},
   "outputs": [
    {
     "name": "stdout",
     "output_type": "stream",
     "text": [
      "The Original array is:--> [1 2 3 4 5]\n",
      "The reverse array is:---> [5 4 3 2 1]\n"
     ]
    }
   ],
   "source": [
    "# 1-D array\n",
    "import numpy as np\n",
    "\n",
    "arr = np.array([1,2,3,4,5])\n",
    "print(\"The Original array is:-->\",arr)\n",
    "\n",
    "# Reverse the array by slicing method\n",
    "rev_arr = arr[::-1]\n",
    "print(\"The reverse array is:--->\",rev_arr)"
   ]
  },
  {
   "cell_type": "code",
   "execution_count": 9,
   "id": "221d5e3b-ed26-4c46-8049-8fcfe58f1098",
   "metadata": {},
   "outputs": [
    {
     "name": "stdout",
     "output_type": "stream",
     "text": [
      "The Original 2-D array is:--->\n",
      " [[1 2 3]\n",
      " [4 5 6]]\n",
      "After row wise reversed the array is:--->\n",
      " [[4 5 6]\n",
      " [1 2 3]]\n",
      "After column wised revised the 2D array is:--->\n",
      " [[3 2 1]\n",
      " [6 5 4]]\n"
     ]
    }
   ],
   "source": [
    "# 2-D array\n",
    "arr_2D = np.array([[1,2,3],[4,5,6]])\n",
    "print(\"The Original 2-D array is:--->\\n\",arr_2D)\n",
    "\n",
    "# Row wise reverse\n",
    "rev_arr_row = arr_2D[::-1]\n",
    "print(\"After row wise reversed the array is:--->\\n\",rev_arr_row)\n",
    "\n",
    "# column wised reversed\n",
    "rev_arr_col = arr_2D[:,::-1]\n",
    "print(\"After column wised revised the 2D array is:--->\\n\",rev_arr_col)"
   ]
  },
  {
   "cell_type": "markdown",
   "id": "e995b9ea-d1a3-44ed-a280-3f186f0770be",
   "metadata": {},
   "source": [
    "### 4. How can you determine the data type of elements in a NumPy array? Discuss the importance of data types in memory management and performance."
   ]
  },
  {
   "cell_type": "markdown",
   "id": "27f31f4c-2edb-498f-b52a-85a9f130e0b0",
   "metadata": {},
   "source": [
    "#### Use .dtype:"
   ]
  },
  {
   "cell_type": "code",
   "execution_count": 26,
   "id": "bd22aafa-a23b-4038-b02d-351a07864a1b",
   "metadata": {},
   "outputs": [
    {
     "name": "stdout",
     "output_type": "stream",
     "text": [
      "The data type of the numpy array is:-  int32\n"
     ]
    }
   ],
   "source": [
    "import numpy as np\n",
    "\n",
    "# Create  anumpy array\n",
    "arr = np.array([1,2,3])\n",
    "\n",
    "print(\"The data type of the numpy array is:- \",arr.dtype)"
   ]
  },
  {
   "cell_type": "markdown",
   "id": "3fba6e1c-cc74-437e-a00d-2c2fe051cd2a",
   "metadata": {},
   "source": [
    "### Importance:\n",
    "    • Efficient memory usage.\n",
    "    • Fast operation (e.g., using int32 instead of float64 where appropriate)"
   ]
  },
  {
   "cell_type": "markdown",
   "id": "71f7756d-11cf-4ac2-b001-5a1f2423d36b",
   "metadata": {},
   "source": [
    "### 5. Define ndarrays in NumPy and explain their key features. How do they differ from standard Python lists?"
   ]
  },
  {
   "cell_type": "markdown",
   "id": "b855ba36-8647-4719-bd3b-d5fc59701ba7",
   "metadata": {},
   "source": [
    "#### Define ndarray and  Comparision to python lists:\n",
    "    An ndarray is a multidimensional array object provided by Numpy.\n",
    "\n",
    "#### Key Features:\n",
    "    • Fixed-size,homogeneous type\n",
    "    • Supports vectorized operations\n",
    "    • Memory-efficient and faster than pyhton lists\n",
    "\n",
    "#### Difference from Python lists:\n",
    "    • Lists are heterogeneous and slower\n",
    "    • Numpy arrays support broadcasting and multidimensional slicing."
   ]
  },
  {
   "cell_type": "markdown",
   "id": "0bb82e87-f1b9-41ef-8786-acf76edcccf5",
   "metadata": {},
   "source": [
    "### 6. Analyze the performance benefits of NumPy arrays over Python lists for large-scale numerical operations."
   ]
  },
  {
   "cell_type": "markdown",
   "id": "b4a18701-17e4-439a-b844-711ff7acc083",
   "metadata": {},
   "source": [
    "#### Performance Benefites:\n",
    "    • Numpy array use less memory than Python lists\n",
    "    • Vectorized operations eliminates loops -> much faster\n",
    "    • Leverages underlying C for execution -> highly optimized"
   ]
  },
  {
   "cell_type": "markdown",
   "id": "329b2c7f-bc86-435f-b908-6629f10de51c",
   "metadata": {},
   "source": [
    "### 7. Compare vstack() and hstack() functions in NumPy. Provide examples demonstrating their usage and output."
   ]
  },
  {
   "cell_type": "code",
   "execution_count": 16,
   "id": "b012f6c4-da67-4e2d-b846-947496650c9f",
   "metadata": {},
   "outputs": [
    {
     "name": "stdout",
     "output_type": "stream",
     "text": [
      "Vertical Stack:-->\n",
      " [[1 2]\n",
      " [3 4]]\n",
      "\n",
      "Horizontal Stack:--> [1 2 3 4]\n"
     ]
    }
   ],
   "source": [
    "import numpy as np\n",
    "\n",
    "# Create 2 numpy array\n",
    "a = np.array([1,2])\n",
    "b = np.array([3,4])\n",
    "\n",
    "print(\"Vertical Stack:-->\\n\",np.vstack((a,b))) # vstack represents Vertical Stack where elements or data add on row wise\n",
    "\n",
    "print(\"\\nHorizontal Stack:-->\",np.hstack((a,b))) # hstack represents Horizontal stack where elements or data add on column wise"
   ]
  },
  {
   "cell_type": "markdown",
   "id": "1a6a69bc-b113-4a8f-9ab9-88233a6ddf78",
   "metadata": {},
   "source": [
    "### 8. Explain the differences between fliplr() and flipud() methods in NumPy, including their effects on various array dimensions."
   ]
  },
  {
   "cell_type": "markdown",
   "id": "98f81f9f-db0b-4e6e-9912-f9be7a4b3d93",
   "metadata": {},
   "source": [
    "##### fliplr() vs flipud()\n",
    "    • np.flipud(): Flip array up/down (reverse rows)\n",
    "    • np.fliplr(): Flip arrays left/right (reverse columns)"
   ]
  },
  {
   "cell_type": "code",
   "execution_count": 21,
   "id": "bdeba91e-61bf-4957-b9e2-cf7841f6deb0",
   "metadata": {},
   "outputs": [
    {
     "name": "stdout",
     "output_type": "stream",
     "text": [
      "Using fliplr():--->\n",
      " [[2 1]\n",
      " [4 3]]\n",
      "\n",
      "Using flipud():--->\n",
      " [[3 4]\n",
      " [1 2]]\n"
     ]
    }
   ],
   "source": [
    "# example\n",
    "arr = np.array([[1,2],[3,4]])\n",
    "\n",
    "print(\"Using fliplr():--->\\n\",np.fliplr(arr))\n",
    "print(\"\\nUsing flipud():--->\\n\",np.flipud(arr))"
   ]
  },
  {
   "cell_type": "markdown",
   "id": "8e920f9e-b0c6-46cf-b458-210cc58ff8ae",
   "metadata": {},
   "source": [
    "### 9. Discuss the functionality of the array_split() method in NumPy. How does it handle uneven splits?"
   ]
  },
  {
   "cell_type": "markdown",
   "id": "9227c87b-bb9f-4990-9be7-6789b8a892eb",
   "metadata": {},
   "source": [
    "array_split() Method\n",
    "    Used to split arrays into sub-arrays.\n",
    "\n",
    "### Syntax:\n",
    "np.array(arr,n)  # where arr is the array name and n is the number of part too divied the array and n must be even number\n",
    "\n",
    "#### Handles uneven splits:\n",
    "    Distributes remaining elements as equally as possible."
   ]
  },
  {
   "cell_type": "markdown",
   "id": "42a51aa4-d6a8-4ad4-9ccd-98f0927948c1",
   "metadata": {},
   "source": [
    "### 10. Explain the concepts of vectorization and broadcasting in NumPy. How do they contribute to efficient array operations?"
   ]
  },
  {
   "cell_type": "markdown",
   "id": "dae3e737-8b28-462e-8240-5b0fb33dfbac",
   "metadata": {},
   "source": [
    "### • Vectorization: Apply operations on arrays without using loops."
   ]
  },
  {
   "cell_type": "code",
   "execution_count": 33,
   "id": "82ccd9f4-29f9-4ca5-8e9f-2b8eeb4375a9",
   "metadata": {},
   "outputs": [
    {
     "name": "stdout",
     "output_type": "stream",
     "text": [
      "[4 6]\n"
     ]
    }
   ],
   "source": [
    "a = np.array([1,2])\n",
    "b = np.array([3,4])\n",
    "\n",
    "c = a + b # No any loops required on Vectorization\n",
    "\n",
    "print(c)"
   ]
  },
  {
   "cell_type": "markdown",
   "id": "aa8124a0-a95e-4117-8bf0-c89d13e8f757",
   "metadata": {},
   "source": [
    "### • Broadcasting:\n",
    "    Numpy automatically expends smaller arrays to match the shape of larger ones."
   ]
  },
  {
   "cell_type": "markdown",
   "id": "576361e4-1175-4b93-a060-18afa0221ebf",
   "metadata": {},
   "source": [
    "### Benefits:\n",
    "    • Cleaner code\n",
    "    • Significantly faster than loops\n",
    "    • Memory-efficient"
   ]
  },
  {
   "cell_type": "markdown",
   "id": "6dff295b-cd4e-4ed7-a227-8bb30e77355a",
   "metadata": {},
   "source": [
    "# Practice Questions"
   ]
  },
  {
   "cell_type": "markdown",
   "id": "798cc47c-90d5-40db-962c-4e1975a87a7b",
   "metadata": {},
   "source": [
    "# 1. Create a 3x3 NumPy array with random integers between 1 and 100. Then, interchange its rows and columns."
   ]
  },
  {
   "cell_type": "code",
   "execution_count": 1,
   "id": "44abd98f-d98f-4dc8-8419-1149eb834d1a",
   "metadata": {},
   "outputs": [
    {
     "name": "stdout",
     "output_type": "stream",
     "text": [
      "Original Numpy array is-->\n",
      " [[ 3 40 73]\n",
      " [31 91 72]\n",
      " [14 23 40]]\n",
      "\n",
      "\n",
      "After interchange its rows and column the new array is--->\n",
      " [[ 3 31 14]\n",
      " [40 91 23]\n",
      " [73 72 40]]\n"
     ]
    }
   ],
   "source": [
    "import numpy as np\n",
    "arr = np.random.randint(1,100,size = (3,3))\n",
    "print(\"Original Numpy array is-->\\n\",arr)\n",
    "print(\"\\n\\nAfter interchange its rows and column the new array is--->\\n\",arr.T)"
   ]
  },
  {
   "cell_type": "markdown",
   "id": "2f313c6a-0e56-49a7-bb42-900b65e3a3a5",
   "metadata": {},
   "source": [
    "# 2. Generate a 1D NumPy array with 10 elements. Reshape it into a 2x5 array, then into a 5x2 array."
   ]
  },
  {
   "cell_type": "code",
   "execution_count": 14,
   "id": "2f4d232e-12d6-409f-a015-b8a30f5c6c04",
   "metadata": {},
   "outputs": [
    {
     "name": "stdout",
     "output_type": "stream",
     "text": [
      "Enter the data from 0 index: 5\n",
      "Enter the data from 1 index: 4\n",
      "Enter the data from 2 index: 9\n",
      "Enter the data from 3 index: 7\n",
      "Enter the data from 4 index: 6\n",
      "Enter the data from 5 index: 3\n",
      "Enter the data from 6 index: 1\n",
      "Enter the data from 7 index: 5\n",
      "Enter the data from 8 index: 6\n",
      "Enter the data from 9 index: 7\n"
     ]
    },
    {
     "name": "stdout",
     "output_type": "stream",
     "text": [
      "Original 1D array is =  [5 4 9 7 6 3 1 5 6 7]\n",
      "\n",
      "After Reshape array into 2x5 then 2D array is--->\n",
      " [[5 4 9 7 6]\n",
      " [3 1 5 6 7]]\n",
      "\n",
      "After Reshape the 2D array to 5x2 2D array is--->\n",
      " [[5 4]\n",
      " [9 7]\n",
      " [6 3]\n",
      " [1 5]\n",
      " [6 7]]\n"
     ]
    }
   ],
   "source": [
    "lis = []\n",
    "for i in range(10):\n",
    "    n = int(input(f\"Enter the data from {str(i)} index:\"))\n",
    "    lis.append(n)\n",
    "\n",
    "arr = np.array(lis)\n",
    "print(\"Original 1D array is = \",arr)\n",
    "\n",
    "# Reshape 2x5\n",
    "arr_2D = arr.reshape(2,5)\n",
    "print(\"\\nAfter Reshape array into 2x5 then 2D array is--->\\n\",arr_2D)\n",
    "\n",
    "# Reshape 5x2\n",
    "new_arr_2D = arr_2D.reshape(5,2)\n",
    "print(\"\\nAfter Reshape the 2D array to 5x2 2D array is--->\\n\",new_arr_2D)"
   ]
  },
  {
   "cell_type": "markdown",
   "id": "ad215e14-d92a-417d-901f-3e2e412afe81",
   "metadata": {},
   "source": [
    "# 3. Create a 4x4 NumPy array with random float values. Add a border of zeros around it, resulting in a 6x6 array."
   ]
  },
  {
   "cell_type": "code",
   "execution_count": 41,
   "id": "e73320f7-ebf4-4c1b-82f7-f7d6ea4c281a",
   "metadata": {},
   "outputs": [
    {
     "name": "stdout",
     "output_type": "stream",
     "text": [
      "4x4 array is--->\n",
      " [[0.3488027  0.60357982 0.90734668 0.5168685 ]\n",
      " [0.88220453 0.1750471  0.80999114 0.69191389]\n",
      " [0.73307396 0.78731604 0.29254918 0.63804864]\n",
      " [0.0022253  0.61947352 0.89606931 0.35720332]]\n",
      "\n",
      "After add the border with zero the new array is--->\n",
      " [[0.         0.         0.         0.         0.         0.        ]\n",
      " [0.         0.3488027  0.60357982 0.90734668 0.5168685  0.        ]\n",
      " [0.         0.88220453 0.1750471  0.80999114 0.69191389 0.        ]\n",
      " [0.         0.73307396 0.78731604 0.29254918 0.63804864 0.        ]\n",
      " [0.         0.0022253  0.61947352 0.89606931 0.35720332 0.        ]\n",
      " [0.         0.         0.         0.         0.         0.        ]]\n"
     ]
    }
   ],
   "source": [
    "arr = np.random.random_sample((4,4))\n",
    "print(\"4x4 array is--->\\n\",arr)\n",
    "\n",
    "padded_array = np.pad(arr,pad_width = 1,constant_values = 0)\n",
    "print(\"\\nAfter add the border with zero the new array is--->\\n\",padded_array)"
   ]
  },
  {
   "cell_type": "markdown",
   "id": "5fcc0b2b-a74d-427a-b8a9-cb022e26c89d",
   "metadata": {},
   "source": [
    "# 4. Using NumPy, create an array of integers from 10 to 60 with a step of 5."
   ]
  },
  {
   "cell_type": "code",
   "execution_count": 4,
   "id": "eecf09d9-fc9c-481e-b713-a8f9acff3f89",
   "metadata": {},
   "outputs": [
    {
     "name": "stdout",
     "output_type": "stream",
     "text": [
      "The array is =  [10 15 20 25 30 35 40 45 50 55]\n"
     ]
    }
   ],
   "source": [
    "arr = np.arange(10,60,5)\n",
    "\n",
    "print(\"The array is = \",arr)"
   ]
  },
  {
   "cell_type": "markdown",
   "id": "1162e87a-e5a3-4eb0-8dd7-225a061fde14",
   "metadata": {},
   "source": [
    "# 5. Create a NumPy array of strings ['python', 'numpy', 'pandas']. Apply different case transformations(uppercase, lowercase, title case, etc.) to each element."
   ]
  },
  {
   "cell_type": "code",
   "execution_count": 52,
   "id": "a1b7c972-5f36-4fc9-badf-e965be4c36b6",
   "metadata": {},
   "outputs": [
    {
     "name": "stdout",
     "output_type": "stream",
     "text": [
      "Original array is =  ['Python' 'numpy' 'Pandas']\n",
      "\n",
      "After convert each letter of array to Upeer case the new Upper case array is =  ['PYTHON' 'NUMPY' 'PANDAS']\n",
      "\n",
      "After convert each letter of array to Lower case the new Upper case array is =  ['python' 'numpy' 'pandas']\n",
      "\n",
      "After convert each letter of array to title case the new Upper case array is =  ['Python' 'Numpy' 'Pandas']\n"
     ]
    }
   ],
   "source": [
    "arr = np.array(['Python','numpy','Pandas'])\n",
    "# Uppercase\n",
    "upper_arr = np.char.upper(arr)\n",
    "\n",
    "# Lower case\n",
    "lower_arr = np.char.lower(arr)\n",
    "\n",
    "# Title case\n",
    "title_arr = np.char.capitalize(arr)\n",
    "\n",
    "print(\"Original array is = \",arr)\n",
    "print(\"\\nAfter convert each letter of array to Upeer case the new Upper case array is = \",upper_arr)\n",
    "print(\"\\nAfter convert each letter of array to Lower case the new Upper case array is = \",lower_arr)\n",
    "print(\"\\nAfter convert each letter of array to title case the new Upper case array is = \",title_arr)"
   ]
  },
  {
   "cell_type": "markdown",
   "id": "e085b89b-29ae-45ba-b477-03fb02889ab5",
   "metadata": {},
   "source": [
    "# 6. Generate a NumPy array of words. Insert a space between each character of every word in the array"
   ]
  },
  {
   "cell_type": "code",
   "execution_count": 57,
   "id": "0111199c-38d2-4017-822b-378e1da16473",
   "metadata": {},
   "outputs": [
    {
     "name": "stdout",
     "output_type": "stream",
     "text": [
      "Enter your Sentence:  My name is Biswajit Adak\n"
     ]
    },
    {
     "name": "stdout",
     "output_type": "stream",
     "text": [
      "The array is--->\n",
      " ['My' 'name' 'is' 'Biswajit' 'Adak']\n"
     ]
    }
   ],
   "source": [
    "sent = input(\"Enter your Sentence: \")\n",
    "lis = sent.split()\n",
    "arr = np.array(lis)\n",
    "print(\"The array is--->\\n\",arr)"
   ]
  },
  {
   "cell_type": "markdown",
   "id": "4a7de940-d222-403b-84bc-32d7869f382e",
   "metadata": {},
   "source": [
    "# 7. Create two 2D NumPy arrays and perform element-wise addition, subtraction, multiplication, and division."
   ]
  },
  {
   "cell_type": "code",
   "execution_count": 64,
   "id": "bb8c37c5-810a-45c9-b983-0c41d7e7d352",
   "metadata": {},
   "outputs": [
    {
     "name": "stdout",
     "output_type": "stream",
     "text": [
      "1st array is:--->\n",
      " [[9 7 1]\n",
      " [2 4 7]\n",
      " [9 7 9]]\n",
      "\n",
      "2nd array is--->\n",
      " [[7 6 7]\n",
      " [5 7 9]\n",
      " [2 8 4]]\n",
      "\n",
      "The Sum of 2 array is--->\n",
      " [[16 13  8]\n",
      " [ 7 11 16]\n",
      " [11 15 13]]\n",
      "\n",
      "The subtraction of 2 array is--->\n",
      " [[ 2  1 -6]\n",
      " [-3 -3 -2]\n",
      " [ 7 -1  5]]\n",
      "\n",
      "The elemet wise multiplication of 2 array is---->\n",
      " [[100 111 130]\n",
      " [ 48  96  78]\n",
      " [116 175 162]]\n",
      "\n",
      "The divition of 2 array is--->\n",
      " [[1.28571429 1.16666667 0.14285714]\n",
      " [0.4        0.57142857 0.77777778]\n",
      " [4.5        0.875      2.25      ]]\n"
     ]
    }
   ],
   "source": [
    "# Create 2 2D array\n",
    "arr1 = np.random.randint(1,10,size = (3,3))\n",
    "arr2 = np.random.randint(1,10,size = (3,3))\n",
    "\n",
    "# Print the 2 array\n",
    "print(\"1st array is:--->\\n\",arr1)\n",
    "print(\"\\n2nd array is--->\\n\",arr2)\n",
    "\n",
    "# Addition\n",
    "sum = arr1 + arr2 # or np.add(arr1,arr2)\n",
    "\n",
    "# Subtraction\n",
    "sub = arr1 - arr2 # or np.subtract(arr1,arr2)\n",
    "\n",
    "# Multiplication\n",
    "mult = arr1 @ arr2 # or np.dot(arr1,arr2)\n",
    "\n",
    "# Divition\n",
    "div = arr1/arr2 # or np.divied(arr1,arr2)\n",
    "\n",
    "# print all arithmetic operation over 2 arrays\n",
    "print(\"\\nThe Sum of 2 array is--->\\n\",sum)\n",
    "print(\"\\nThe subtraction of 2 array is--->\\n\",sub)\n",
    "print(\"\\nThe elemet wise multiplication(matrix multiplication) of 2 array is---->\\n\",mult)\n",
    "print(\"\\nThe divition of 2 array is--->\\n\",div)"
   ]
  },
  {
   "cell_type": "markdown",
   "id": "c85f3668-8cbd-4ae0-9de6-3cd838d418b9",
   "metadata": {},
   "source": [
    "# 8. Use NumPy to create a 5x5 identity matrix, then extract its diagonal elements"
   ]
  },
  {
   "cell_type": "code",
   "execution_count": 69,
   "id": "8341a0ac-937f-43b5-9f6d-bc79633d9c2e",
   "metadata": {},
   "outputs": [
    {
     "name": "stdout",
     "output_type": "stream",
     "text": [
      "The Identity matrix is--->\n",
      " [[1 0 0 0 0]\n",
      " [0 1 0 0 0]\n",
      " [0 0 1 0 0]\n",
      " [0 0 0 1 0]\n",
      " [0 0 0 0 1]]\n",
      "\n",
      "The Diagonal element of the identity matric is-->\n",
      " [1 1 1 1 1]\n"
     ]
    }
   ],
   "source": [
    "# create 5x5 identity matrix\n",
    "iden_arr = np.eye(5,dtype = int)\n",
    "print(\"The Identity matrix is--->\\n\",iden_arr)\n",
    "\n",
    "# Print diagonal elemet\n",
    "diagonal_element = np.diagonal(iden_arr)\n",
    "print(\"\\nThe Diagonal element of the identity matric is-->\\n\",diagonal_element)"
   ]
  },
  {
   "cell_type": "markdown",
   "id": "ebd5fc5f-6cb7-4858-bb1a-87a423b4d0a7",
   "metadata": {},
   "source": [
    "# 9. Generate a NumPy array of 100 random integers between 0 and 1000. Find and display all prime numbers inthis array."
   ]
  },
  {
   "cell_type": "code",
   "execution_count": 104,
   "id": "ce66c15a-fe35-4301-b5b9-45338828cb69",
   "metadata": {},
   "outputs": [
    {
     "name": "stdout",
     "output_type": "stream",
     "text": [
      "Original array are--->\n",
      " [770 968 734 541 556 192 186 605 992 435  47 669 349  23 139  94 579 544\n",
      "  73 338 752 409 143 932 575 840 364 107 662 265 520 264 207 848 187 523\n",
      " 151 532 251 780 505 738 685 166 244 566 790 137 264 144 363 946 104 242\n",
      " 391 311 256 375 607 765 427 627 266 963 920 177 393  47 276 640 122 414\n",
      " 842 617 676 334 300 405 606   1 705 111 509 573 139  42 431 247 165 370\n",
      " 675 189  24 772 576  90 891 676  94 136]\n",
      "\n",
      "Prime number are--> [541  47 349  23 139  73 409 107 523 151 251 137 311 607  47 617   1 509\n",
      " 139 431]\n"
     ]
    }
   ],
   "source": [
    "# Create function to check the the number is prime or not\n",
    "def calculate_prime_number(arr):\n",
    "    lis = []\n",
    "    for i in arr:\n",
    "        flag = 0\n",
    "        for j in range(2,(i//2)+1):\n",
    "            if i % j == 0:\n",
    "                flag = 1\n",
    "                break\n",
    "        if flag == 0:\n",
    "            lis.append(i)\n",
    "    return lis\n",
    "\n",
    "# Generate a numpy array of 100 random integer between 1 and 1000\n",
    "arr = np.random.randint(1,1000,size = (1,100)) # it's return 2D array4\n",
    "\n",
    "# Convert into 1D array\n",
    "arr = arr.flatten()\n",
    "\n",
    "print(\"Original array are--->\\n\",arr)\n",
    "\n",
    "prime_num = calculate_prime_number(arr)\n",
    "prime_arr = np.array(prime_num)\n",
    "print(\"\\nPrime number are-->\",prime_arr)"
   ]
  },
  {
   "cell_type": "markdown",
   "id": "e98831c3-0ca9-4587-a103-5fb5cd6fa051",
   "metadata": {},
   "source": [
    "# 10. Create a NumPy array representing daily temperatures for a month. Calculate and display the weeklyaverages."
   ]
  },
  {
   "cell_type": "code",
   "execution_count": 5,
   "id": "d173e092-0efa-4a26-8d6f-a124b74b2877",
   "metadata": {},
   "outputs": [
    {
     "data": {
      "text/plain": [
       "array([32.28571429, 34.        , 34.85714286, 32.57142857])"
      ]
     },
     "execution_count": 5,
     "metadata": {},
     "output_type": "execute_result"
    }
   ],
   "source": [
    "daily_temperature = np.array([30,31,32,36,34,32,31,32,35,36,\n",
    "                             35,37,32,31,38,39,35,34,32,34,\n",
    "                             32,31,30,30,35,34,36,32])\n",
    "weekly_temperature  = daily_temperature.reshape(4,7)\n",
    "\n",
    "# calculate average temperature\n",
    "avg_temp = weekly_temperature.mean(axis = 1)\n",
    "avg_temp"
   ]
  },
  {
   "cell_type": "code",
   "execution_count": null,
   "id": "9ea35a48-7feb-44ad-9537-4296fd84b63b",
   "metadata": {},
   "outputs": [],
   "source": []
  }
 ],
 "metadata": {
  "kernelspec": {
   "display_name": "Python 3 (ipykernel)",
   "language": "python",
   "name": "python3"
  },
  "language_info": {
   "codemirror_mode": {
    "name": "ipython",
    "version": 3
   },
   "file_extension": ".py",
   "mimetype": "text/x-python",
   "name": "python",
   "nbconvert_exporter": "python",
   "pygments_lexer": "ipython3",
   "version": "3.12.4"
  }
 },
 "nbformat": 4,
 "nbformat_minor": 5
}
